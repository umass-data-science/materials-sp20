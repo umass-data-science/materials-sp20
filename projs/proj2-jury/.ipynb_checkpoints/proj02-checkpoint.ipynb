{
 "cells": [
  {
   "cell_type": "markdown",
   "metadata": {},
   "source": [
    "# Project 1: Roulette\n",
    "\n",
    "The goal of this lab is to explore the connections between data science and finance. We'll be using roulette as a simple game. We use games because the rules are relatively simple compared to complex finance and insurance instruments, but the ideas extend.\n",
    "\n",
    "In [roulette](https://en.wikipedia.org/wiki/Roulette) there are 37 numbers: zero through 36. Zero is colored green, the odd numbers are red, and the even numbers are black. A dealer rolls a ball on the spinning roulette wheel and the ball falls into the slot correspondiong with a random number.\n",
    "\n",
    "A player may choose from many different types of bets. For example, they could choose to bet 1 dollar on \"red\". If the ball lands on a red (odd) number, the player wins otherwise they lose. The payout is a function of the probability of the even in the bet. The ball has a probability of 18/37 of landing on red and winning. The payout for this bet (set by the house is 1 to 1) which means if the player wins they get their money back; if they lose, they lose the bet.\n",
    "\n",
    "We can use simulation to study the outcome of any betting strategy and find out the effects of changes to the rules. In particular, you might explore the effect of credit and incentives. For example, suppose you were given an incentive for winning a certain amount of money over the course of a round of 10 games (like an end-of-year bonus). These incentives can have a powerful influence on decisions players made and are worth exploring. These ideas relate to the 2008 financial collapse."
   ]
  },
  {
   "cell_type": "markdown",
   "metadata": {},
   "source": [
    "## 1. Odds Ratios and Payout\n",
    "When a player picks a single number in roulette, the probability of winning is $1/37$ and the player wins 35 times the bet. The probability the player looses is $36/37$ and the player looses the amount they bet. To understand how much the player can expect to gain from a single bet, we can compute the expected value. It's the probability of the even times the gain/loss if the event happens summed over all of the possible events. In this case there are two events, so the expected value is"
   ]
  },
  {
   "cell_type": "code",
   "execution_count": 1,
   "metadata": {},
   "outputs": [
    {
     "data": {
      "text/plain": [
       "-0.027027027027026973"
      ]
     },
     "execution_count": 1,
     "metadata": {},
     "output_type": "execute_result"
    }
   ],
   "source": [
    "1/37 * 35 + 36/37 * (-1)"
   ]
  },
  {
   "cell_type": "markdown",
   "metadata": {},
   "source": [
    "We can see that the player can expect to loose 2.7 cents each time they play."
   ]
  },
  {
   "cell_type": "markdown",
   "metadata": {},
   "source": [
    "Now, put yourself in the shoes of the house. How can we make the game more or less fair (expected value equal to zero). You can't change the probabilities of the events (they are controlled by the roulette wheel). A loosing bet still loses the amount bet. So the only variable we can adjust is the payout (which is 35 times above). In the cell below experiment with different payouts."
   ]
  },
  {
   "cell_type": "code",
   "execution_count": null,
   "metadata": {},
   "outputs": [],
   "source": []
  },
  {
   "cell_type": "markdown",
   "metadata": {},
   "source": [
    "There are many other types of bets in roulette. You can bet on all the odd numbers. Look at some other bets to see what the expected win/loss is for them. You can find a table of payouts on the wikipedia page referenced above."
   ]
  },
  {
   "cell_type": "code",
   "execution_count": null,
   "metadata": {},
   "outputs": [],
   "source": []
  },
  {
   "cell_type": "markdown",
   "metadata": {},
   "source": [
    "## 2. Building a roulette simulator\n",
    "Now we'd like to build a simulator for the roulette game so that we can test out some different betting strategies. To start only allow the player to bet on a single number. Write a function that takes as input the amount of a bet and the number of the betand outputs the amount the player won (or lost) on the bet."
   ]
  },
  {
   "cell_type": "code",
   "execution_count": 8,
   "metadata": {},
   "outputs": [],
   "source": [
    "import random\n",
    "\n",
    "def roulette(bet_amount, bet_number):\n",
    "    outcome = random.randint(1,37)\n",
    "    # COMPLETE THIS FUNCTION\n",
    "    print(outcome)"
   ]
  },
  {
   "cell_type": "code",
   "execution_count": null,
   "metadata": {},
   "outputs": [],
   "source": [
    "Notice "
   ]
  },
  {
   "cell_type": "code",
   "execution_count": 12,
   "metadata": {},
   "outputs": [
    {
     "name": "stdout",
     "output_type": "stream",
     "text": [
      "5\n"
     ]
    }
   ],
   "source": [
    "roulette(1,35)"
   ]
  },
  {
   "cell_type": "markdown",
   "metadata": {},
   "source": [
    "## 3. Building an (algorithmic) roulette player\n",
    "Now that we have a game, implement a player using a loop that keeps playing the game until they run out of money. Let's suppose the player starts with 100 dollars in the bank."
   ]
  },
  {
   "cell_type": "code",
   "execution_count": 13,
   "metadata": {},
   "outputs": [],
   "source": [
    "bank = 100"
   ]
  },
  {
   "cell_type": "markdown",
   "metadata": {},
   "source": [
    "## 4. The effect of credit\n",
    "Sometimes in financial markets, you can borrow money; this is called leverage. Suppose that you had 100 dollars in the bank, the most that you could win is 3500 dollars by betting on a single number. But, if you had a line of credit of 900 dollars, you could bet 1000 dollars and potentially gain 35,000 only using your 100 dollars in the bank. That's a gain of 350 times you bank!\n",
    "\n",
    "But, the credit comes with a risk --- you could lose _more_ than the money you have.\n",
    "\n",
    "Experiment with your algorithmic player. How would you change things to make use of a line of credit? How would your strategy change?\n",
    "\n",
    "The experiments in this section aren't meant to be exact, but instead give broad ideas for you to think about connecting the game of roulette to finance."
   ]
  },
  {
   "cell_type": "markdown",
   "metadata": {},
   "source": [
    "## 5. Value at risk\n",
    "Leading up to the 2018 financial crisis, banks used a number, like expected value, called value-at-risk to set limits on how much they could borrow on credit. Here's how value-at-risk works."
   ]
  },
  {
   "cell_type": "markdown",
   "metadata": {},
   "source": [
    "Implement your roulette game, except this time you're going to play the game 10 times and only at the end of those 10 plays, return the amount the player won or lost."
   ]
  },
  {
   "cell_type": "code",
   "execution_count": null,
   "metadata": {},
   "outputs": [],
   "source": []
  },
  {
   "cell_type": "markdown",
   "metadata": {},
   "source": [
    "Now, run the play (with your fixed betting strategy) 1000 times and make a list of the amount that the player won/lost over those 1000 plays. Plot the histogram of the win/loss across 1000 plays. Compute the lower 5th percentile. This is the value at risk. It's the amount that you would lose at the 5th percentile."
   ]
  },
  {
   "cell_type": "code",
   "execution_count": null,
   "metadata": {},
   "outputs": [],
   "source": []
  },
  {
   "cell_type": "markdown",
   "metadata": {},
   "source": [
    "Now, the value-at-risk sets the amount of credit that you can use. "
   ]
  },
  {
   "cell_type": "markdown",
   "metadata": {},
   "source": [
    "## 6. The effect of credit and incentives\n",
    "Finally, suppose that your computer player is a trader with a line of credit determined by value at risk. Now, the 10 plays are like a year of trading. At the end of year 1 if the trader makes money (return is greater than zero), the they get to keep playing. If they don't make money then the game is over for them. Financial institutions typically provide incentives for their employees and those incentives can become more stringent over time. Suppose that in year 2, the threshold is that the trader has to make 10 dollars (10 percent return on the 100 dollar bank). In year 2, the trader has to make 20 dollars. Keep increasing the incentive for 10 rounds. Make a cell for each year of play and experiment. You may be opposed to deploying your credit in the beginning and you may not need it, but as time goes on you may find it difficult to maintain that course. Write your thoughts on the structure of the system and the strategies you've employed in terms of what bets you made (single numbers, odds/evens, etc) and the amount of your bet. Have you been able to make it to the end of 10 years?"
   ]
  },
  {
   "cell_type": "code",
   "execution_count": null,
   "metadata": {},
   "outputs": [],
   "source": []
  }
 ],
 "metadata": {
  "anaconda-cloud": {},
  "kernelspec": {
   "display_name": "Python 3",
   "language": "python",
   "name": "python3"
  },
  "language_info": {
   "codemirror_mode": {
    "name": "ipython",
    "version": 3
   },
   "file_extension": ".py",
   "mimetype": "text/x-python",
   "name": "python",
   "nbconvert_exporter": "python",
   "pygments_lexer": "ipython3",
   "version": "3.7.6"
  }
 },
 "nbformat": 4,
 "nbformat_minor": 4
}
