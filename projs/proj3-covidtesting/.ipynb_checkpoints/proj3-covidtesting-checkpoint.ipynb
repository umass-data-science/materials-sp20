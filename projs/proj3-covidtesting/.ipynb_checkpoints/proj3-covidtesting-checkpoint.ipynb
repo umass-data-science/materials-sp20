{
 "cells": [
  {
   "cell_type": "markdown",
   "metadata": {},
   "source": [
    "# Project 3: COVID Testing"
   ]
  },
  {
   "cell_type": "markdown",
   "metadata": {},
   "source": [
    "During the COVID-19 pandemic a research study was published that claimed that rather than the 1,000 confirmed cases in Santa Clara county, the actual prevalence was closer to 54,000 cases --- higher by a factor of 54x [https://www.medrxiv.org/content/10.1101/2020.04.14.20062463v2](https://www.medrxiv.org/content/10.1101/2020.04.14.20062463v2). This study generated a significant amount of press including this article in the NY Times [https://www.nytimes.com/2020/04/21/health/coronavirus-antibodies-california.html](https://www.nytimes.com/2020/04/21/health/coronavirus-antibodies-california.html) which in turn generated more press on the controversy surrounding the initial study [https://www.mercurynews.com/2020/04/20/feud-over-stanford-coronavirus-study-the-authors-owe-us-all-an-apology/](https://www.mercurynews.com/2020/04/20/feud-over-stanford-coronavirus-study-the-authors-owe-us-all-an-apology/)."
   ]
  },
  {
   "cell_type": "markdown",
   "metadata": {},
   "source": [
    "First, review the intial study and in the space below write down a few things that you think make the study rigorous and valid."
   ]
  },
  {
   "cell_type": "code",
   "execution_count": null,
   "metadata": {},
   "outputs": [],
   "source": []
  },
  {
   "cell_type": "markdown",
   "metadata": {},
   "source": [
    "Second, write down a few things that you have concerns about in the original study."
   ]
  },
  {
   "cell_type": "code",
   "execution_count": null,
   "metadata": {},
   "outputs": [],
   "source": []
  },
  {
   "cell_type": "markdown",
   "metadata": {},
   "source": [
    "## Gelman Critique\n",
    "Review the critique at [https://statmodeling.stat.columbia.edu/2020/04/19/fatal-flaws-in-stanford-study-of-coronavirus-prevalence/](https://statmodeling.stat.columbia.edu/2020/04/19/fatal-flaws-in-stanford-study-of-coronavirus-prevalence/). Write down your response below. Which parts do you agree with and which parts do you disagree with."
   ]
  },
  {
   "cell_type": "code",
   "execution_count": null,
   "metadata": {},
   "outputs": [],
   "source": []
  },
  {
   "cell_type": "markdown",
   "metadata": {},
   "source": [
    "Now, read the comments in the above critique. Do you agree with some of the commenters or do you disagree?"
   ]
  },
  {
   "cell_type": "code",
   "execution_count": null,
   "metadata": {},
   "outputs": [],
   "source": []
  },
  {
   "cell_type": "markdown",
   "metadata": {},
   "source": [
    "A large part of a scientific enterprise is the conversation that happens around a new study. Often the media reports simplify aspects and don't have enough space to go into the details of the original study. Reading the study with a background in data science will help you judge for yourself what you agree with and what you disagree with. But, it's not enough to just agree or disagree, you need to be able to describe your evidence for _why_ you agree or disagree. Look back through the critique and try to analyze what evidence Gelman is providing for his opinions."
   ]
  },
  {
   "cell_type": "markdown",
   "metadata": {},
   "source": [
    "## Fithian Critique\n",
    "Will Fithian was specifically concerned with the false positive rate of the study and was coincerned that the original authors may have missed something in their analysis by averaging [https://www.stat.berkeley.edu/~wfithian/overdispersionSimple.html](https://www.stat.berkeley.edu/~wfithian/overdispersionSimple.html).\n",
    "He took a modeling approach to address this question."
   ]
  },
  {
   "cell_type": "markdown",
   "metadata": {},
   "source": [
    "In this class you've learned about resampling. For this project try to develop a resampling approach to find out if the study is reproducible."
   ]
  },
  {
   "cell_type": "code",
   "execution_count": null,
   "metadata": {},
   "outputs": [],
   "source": []
  }
 ],
 "metadata": {
  "kernelspec": {
   "display_name": "Python 3",
   "language": "python",
   "name": "python3"
  },
  "language_info": {
   "codemirror_mode": {
    "name": "ipython",
    "version": 3
   },
   "file_extension": ".py",
   "mimetype": "text/x-python",
   "name": "python",
   "nbconvert_exporter": "python",
   "pygments_lexer": "ipython3",
   "version": "3.7.6"
  }
 },
 "nbformat": 4,
 "nbformat_minor": 4
}
