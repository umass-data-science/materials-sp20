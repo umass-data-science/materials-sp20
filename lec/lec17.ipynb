{
 "cells": [
  {
   "cell_type": "code",
   "execution_count": null,
   "metadata": {},
   "outputs": [],
   "source": [
    "# HIDDEN\n",
    "from datascience import *\n",
    "import numpy as np\n",
    "%matplotlib inline\n",
    "import matplotlib.pyplot as plots\n",
    "plots.style.use('fivethirtyeight')"
   ]
  },
  {
   "cell_type": "markdown",
   "metadata": {},
   "source": [
    "## Lecture 17: Least Squares"
   ]
  },
  {
   "cell_type": "code",
   "execution_count": null,
   "metadata": {},
   "outputs": [],
   "source": [
    "sample = [[131, 14431], [231, 20558], [392, 40935], [157, 23524]]\n",
    "def lw_errors(slope, intercept):\n",
    "    little_women.scatter('Periods', 'Characters')\n",
    "    xlims = np.array([50, 450])\n",
    "    plots.plot(xlims, slope * xlims + intercept, lw=2)\n",
    "    for x, y in sample:\n",
    "        plots.plot([x, x], [y, slope * x + intercept], color='r', lw=2)"
   ]
  },
  {
   "cell_type": "markdown",
   "metadata": {},
   "source": [
    "### Discussion Question ###\n",
    "\n",
    "Midterm: Average 70, SD 10\n",
    "Final:   Average 50, SD 12\n",
    "r = 0.75\n",
    "\n",
    "a) Estimate the average final exam score for those who got 90 on the midterm.\n",
    "\n",
    "b) Estimate the average final exam score for those who got 60 on the midterm."
   ]
  },
  {
   "cell_type": "markdown",
   "metadata": {},
   "source": [
    "### Regression Line ###"
   ]
  },
  {
   "cell_type": "code",
   "execution_count": null,
   "metadata": {},
   "outputs": [],
   "source": [
    "def standard_units(w):\n",
    "    return (w - np.average(w))/np.std(w)  \n",
    "\n",
    "# t is a table; x and y are column labels\n",
    "\n",
    "def correlation(t, x, y):\n",
    "    return np.average(standard_units(t.column(x))*standard_units(t.column(y)))\n",
    "\n",
    "def slope(t, x, y):\n",
    "    r = correlation(t, x, y)\n",
    "    return r * np.std(t.column(y))/np.std(t.column(x))\n",
    "\n",
    "def intercept(t, x, y):\n",
    "    a = slope(t, x, y)\n",
    "    return np.average(t.column(y)) - a * np.average(t.column(x))"
   ]
  },
  {
   "cell_type": "code",
   "execution_count": null,
   "metadata": {},
   "outputs": [],
   "source": [
    "def fitted_values(t, x, y):\n",
    "    \"\"\"Return an array of the regressions estimates at all the x values\"\"\"\n",
    "    a = slope(t, x, y)\n",
    "    b = intercept(t, x, y)\n",
    "    return a*t.column(x) + b"
   ]
  },
  {
   "cell_type": "code",
   "execution_count": null,
   "metadata": {},
   "outputs": [],
   "source": [
    "little_women = Table.read_table('little_women.csv')\n",
    "little_women = little_women.move_to_start('Periods')\n",
    "little_women"
   ]
  },
  {
   "cell_type": "code",
   "execution_count": null,
   "metadata": {},
   "outputs": [],
   "source": [
    "little_women.scatter('Periods', 'Characters')"
   ]
  },
  {
   "cell_type": "code",
   "execution_count": null,
   "metadata": {},
   "outputs": [],
   "source": [
    "correlation(little_women, 'Periods', 'Characters')"
   ]
  },
  {
   "cell_type": "code",
   "execution_count": null,
   "metadata": {},
   "outputs": [],
   "source": [
    "predicted = fitted_values(little_women, 'Periods', 'Characters')"
   ]
  },
  {
   "cell_type": "code",
   "execution_count": null,
   "metadata": {},
   "outputs": [],
   "source": [
    "lw_with_predictions = little_women.with_column('Linear Prediction', predicted)\n",
    "lw_with_predictions.scatter('Periods')"
   ]
  },
  {
   "cell_type": "code",
   "execution_count": null,
   "metadata": {},
   "outputs": [],
   "source": [
    "actual = little_women.column('Characters')\n",
    "errors = actual - predicted"
   ]
  },
  {
   "cell_type": "code",
   "execution_count": null,
   "metadata": {},
   "outputs": [],
   "source": [
    "lw_with_predictions.with_column('Error', errors)"
   ]
  },
  {
   "cell_type": "code",
   "execution_count": null,
   "metadata": {},
   "outputs": [],
   "source": [
    "np.mean(errors ** 2) ** 0.5"
   ]
  },
  {
   "cell_type": "code",
   "execution_count": null,
   "metadata": {},
   "outputs": [],
   "source": [
    "lw_reg_slope = slope(little_women, 'Periods', 'Characters')\n",
    "lw_reg_intercept = intercept(little_women, 'Periods', 'Characters')"
   ]
  },
  {
   "cell_type": "code",
   "execution_count": null,
   "metadata": {},
   "outputs": [],
   "source": [
    "lw_errors(lw_reg_slope, lw_reg_intercept)"
   ]
  },
  {
   "cell_type": "code",
   "execution_count": null,
   "metadata": {},
   "outputs": [],
   "source": [
    "# takes any slope, any intercept\n",
    "\n",
    "lw_errors(50, 10000)"
   ]
  },
  {
   "cell_type": "code",
   "execution_count": null,
   "metadata": {},
   "outputs": [],
   "source": [
    "lw_errors(-100, 50000)"
   ]
  },
  {
   "cell_type": "markdown",
   "metadata": {},
   "source": [
    "### Root Mean Square Error ###"
   ]
  },
  {
   "cell_type": "code",
   "execution_count": null,
   "metadata": {},
   "outputs": [],
   "source": [
    "def lw_rmse(slope, intercept):\n",
    "    lw_errors(slope, intercept)\n",
    "    x = little_women.column('Periods')\n",
    "    y = little_women.column('Characters')\n",
    "    prediction = slope * x + intercept\n",
    "    mse = np.mean((y - prediction) ** 2)\n",
    "    print(\"Root mean squared error:\", mse ** 0.5)"
   ]
  },
  {
   "cell_type": "code",
   "execution_count": null,
   "metadata": {},
   "outputs": [],
   "source": [
    "lw_rmse(50, 10000)"
   ]
  },
  {
   "cell_type": "code",
   "execution_count": null,
   "metadata": {},
   "outputs": [],
   "source": [
    "lw_rmse(-100, 50000)"
   ]
  },
  {
   "cell_type": "code",
   "execution_count": null,
   "metadata": {},
   "outputs": [],
   "source": [
    "lw_rmse(90, 4000)"
   ]
  },
  {
   "cell_type": "code",
   "execution_count": null,
   "metadata": {},
   "outputs": [],
   "source": [
    "lw_rmse(lw_reg_slope, lw_reg_intercept)"
   ]
  },
  {
   "cell_type": "markdown",
   "metadata": {},
   "source": [
    "### Numerical Optimization ###"
   ]
  },
  {
   "cell_type": "code",
   "execution_count": null,
   "metadata": {},
   "outputs": [],
   "source": [
    "x = np.arange(1, 3, 0.1)\n",
    "y = (x-2)**2 + 3\n",
    "Table().with_column('x', x,\n",
    "                   'y', y).plot('x')"
   ]
  },
  {
   "cell_type": "code",
   "execution_count": null,
   "metadata": {},
   "outputs": [],
   "source": [
    "def f(x):\n",
    "    return ((x-2)**2) + 3"
   ]
  },
  {
   "cell_type": "code",
   "execution_count": null,
   "metadata": {},
   "outputs": [],
   "source": [
    "minimize(f)"
   ]
  },
  {
   "cell_type": "markdown",
   "metadata": {},
   "source": [
    "### Minimizing RMSE ###"
   ]
  },
  {
   "cell_type": "code",
   "execution_count": null,
   "metadata": {},
   "outputs": [],
   "source": [
    "def lw_rmse(any_slope, any_intercept):\n",
    "    x = little_women.column('Periods')\n",
    "    y = little_women.column('Characters')\n",
    "    estimate = any_slope*x + any_intercept\n",
    "    return (np.mean((y - estimate) ** 2)) ** 0.5"
   ]
  },
  {
   "cell_type": "code",
   "execution_count": null,
   "metadata": {},
   "outputs": [],
   "source": [
    "lw_rmse(50, 10000)"
   ]
  },
  {
   "cell_type": "code",
   "execution_count": null,
   "metadata": {},
   "outputs": [],
   "source": [
    "lw_rmse(-100, 50000)"
   ]
  },
  {
   "cell_type": "code",
   "execution_count": null,
   "metadata": {},
   "outputs": [],
   "source": [
    "minimize(lw_rmse)"
   ]
  },
  {
   "cell_type": "code",
   "execution_count": null,
   "metadata": {},
   "outputs": [],
   "source": [
    "lw_reg_slope, lw_reg_intercept"
   ]
  },
  {
   "cell_type": "markdown",
   "metadata": {},
   "source": [
    "### Nonlinear Regression ###"
   ]
  },
  {
   "cell_type": "code",
   "execution_count": null,
   "metadata": {},
   "outputs": [],
   "source": [
    "shotput = Table.read_table('shotput.csv')"
   ]
  },
  {
   "cell_type": "code",
   "execution_count": null,
   "metadata": {},
   "outputs": [],
   "source": [
    "shotput"
   ]
  },
  {
   "cell_type": "code",
   "execution_count": null,
   "metadata": {},
   "outputs": [],
   "source": [
    "shotput.scatter('Weight Lifted')"
   ]
  },
  {
   "cell_type": "code",
   "execution_count": null,
   "metadata": {},
   "outputs": [],
   "source": [
    "def shotput_linear_rmse(any_slope, any_intercept):\n",
    "    x = shotput.column('Weight Lifted')\n",
    "    y = shotput.column('Shot Put Distance')\n",
    "    estimate = any_slope*x + any_intercept\n",
    "    return np.mean((y - estimate) ** 2) ** 0.5"
   ]
  },
  {
   "cell_type": "code",
   "execution_count": null,
   "metadata": {},
   "outputs": [],
   "source": [
    "best_line = minimize(shotput_linear_rmse)\n",
    "best_line"
   ]
  },
  {
   "cell_type": "code",
   "execution_count": null,
   "metadata": {},
   "outputs": [],
   "source": [
    "weights = shotput.column(0)"
   ]
  },
  {
   "cell_type": "code",
   "execution_count": null,
   "metadata": {},
   "outputs": [],
   "source": [
    "linear_fit = best_line.item(0)*weights + best_line.item(1)\n",
    "\n",
    "shotput.with_column(\n",
    "    'Best Line', linear_fit\n",
    ").scatter(0)"
   ]
  },
  {
   "cell_type": "markdown",
   "metadata": {},
   "source": [
    "**Quadratic Function**\n",
    "\n",
    "$$\n",
    "f(x) ~=~ ax^2 + bx + c\n",
    "$$\n",
    "for constants $a$, $b$, and $c$.\n",
    "\n"
   ]
  },
  {
   "cell_type": "code",
   "execution_count": null,
   "metadata": {},
   "outputs": [],
   "source": [
    "def shotput_quadratic_rmse(a, b, c):\n",
    "    x = shotput.column('Weight Lifted')\n",
    "    y = shotput.column('Shot Put Distance')\n",
    "    estimate = a*(x**2) + b*x + c\n",
    "    return np.mean((y - estimate) ** 2) ** 0.5"
   ]
  },
  {
   "cell_type": "code",
   "execution_count": null,
   "metadata": {},
   "outputs": [],
   "source": [
    "best_quad = minimize(shotput_quadratic_rmse)\n",
    "best_quad"
   ]
  },
  {
   "cell_type": "code",
   "execution_count": null,
   "metadata": {},
   "outputs": [],
   "source": [
    "# x = weight lifted = 100 kg\n",
    "# Then predicted shot put distance:\n",
    "\n",
    "(-0.00104)*(100**2) + 0.2827*100 - 1.5318"
   ]
  },
  {
   "cell_type": "code",
   "execution_count": null,
   "metadata": {},
   "outputs": [],
   "source": [
    "quad_fit = best_quad.item(0)*(weights**2) + best_quad.item(1)*weights + best_quad.item(2)"
   ]
  },
  {
   "cell_type": "code",
   "execution_count": null,
   "metadata": {},
   "outputs": [],
   "source": [
    "shotput.with_column('Best Quadratic Curve', quad_fit).scatter(0)"
   ]
  }
 ],
 "metadata": {
  "kernelspec": {
   "display_name": "Python 3",
   "language": "python",
   "name": "python3"
  },
  "language_info": {
   "codemirror_mode": {
    "name": "ipython",
    "version": 3
   },
   "file_extension": ".py",
   "mimetype": "text/x-python",
   "name": "python",
   "nbconvert_exporter": "python",
   "pygments_lexer": "ipython3",
   "version": "3.6.1"
  }
 },
 "nbformat": 4,
 "nbformat_minor": 1
}
